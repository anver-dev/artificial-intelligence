{
  "cells": [
    {
      "cell_type": "markdown",
      "metadata": {
        "colab_type": "text",
        "id": "view-in-github"
      },
      "source": [
        "<a href=\"https://colab.research.google.com/github/anver-dev/artificial-intelligence/blob/basics-jupyter/first_approach.ipynb\" target=\"_parent\"><img src=\"https://colab.research.google.com/assets/colab-badge.svg\" alt=\"Open In Colab\"/></a>"
      ]
    },
    {
      "cell_type": "markdown",
      "metadata": {},
      "source": [
        "## Python\n",
        "---\n",
        "### What is python?\n",
        "\n",
        "Python is an easy to learn, powerful programming language. It has efficient high-level data structures and a simple but effective approach to object-oriented programming. Python’s elegant syntax and dynamic typing, together with its interpreted nature, make it an ideal language for scripting and rapid application development in many areas on most platforms. \n",
        "\n",
        "### What are the implementations of python?\n",
        "\n",
        "- Anaconda.\n",
        "- Jupyter Notebook.\n",
        "- Google Colab."
      ]
    },
    {
      "cell_type": "markdown",
      "metadata": {},
      "source": [
        "### Basics of python\n",
        "---"
      ]
    },
    {
      "cell_type": "code",
      "execution_count": 1,
      "metadata": {
        "id": "qngiK176Z5t-"
      },
      "outputs": [
        {
          "name": "stdout",
          "output_type": "stream",
          "text": [
            "Hello World!\n"
          ]
        }
      ],
      "source": [
        "# Starting with hello world\n",
        "# We can use the print function to print out a message to the console\n",
        "\n",
        "print(\"Hello World!\")"
      ]
    },
    {
      "cell_type": "code",
      "execution_count": 2,
      "metadata": {},
      "outputs": [
        {
          "data": {
            "text/plain": [
              "'Hello World!'"
            ]
          },
          "execution_count": 2,
          "metadata": {},
          "output_type": "execute_result"
        }
      ],
      "source": [
        "# But we can only set a variable to show in the console\n",
        "\n",
        "message = \"Hello World!\"\n",
        "message"
      ]
    },
    {
      "cell_type": "code",
      "execution_count": 5,
      "metadata": {},
      "outputs": [
        {
          "name": "stdout",
          "output_type": "stream",
          "text": [
            "The sum of the two numbers ( 10 , 1 ) is:  11\n"
          ]
        }
      ],
      "source": [
        "# We can also use the input function to get input from the user\n",
        "# Note that the input function always returns a string so we have to convert it to an integer if we want to do some arithmetic operations with it\n",
        "\n",
        "a = int(input(\"Enter a number: \"))\n",
        "b = int(input(\"Enter another number: \"))\n",
        "\n",
        "print(\"The sum of the two numbers (\",a,\",\",b,\") is: \", a + b)"
      ]
    },
    {
      "cell_type": "markdown",
      "metadata": {},
      "source": [
        "#### List\n",
        "---"
      ]
    },
    {
      "cell_type": "code",
      "execution_count": 21,
      "metadata": {},
      "outputs": [
        {
          "name": "stdout",
          "output_type": "stream",
          "text": [
            "['apple', 'banana', 'cherry', 'apple', 'cherry']\n"
          ]
        }
      ],
      "source": [
        "# Lists are a collection of items that are ordered and changeable. They are written with square brackets\n",
        "# Note: lists can contain different data types and it can be duplicated\n",
        "\n",
        "my_list = [\"apple\", \"banana\", \"cherry\", \"apple\", \"cherry\"]\n",
        "print(my_list)"
      ]
    },
    {
      "cell_type": "code",
      "execution_count": 22,
      "metadata": {},
      "outputs": [
        {
          "name": "stdout",
          "output_type": "stream",
          "text": [
            "Original list:  ['apple', 'banana', 'cherry', 'apple', 'cherry']\n",
            "Added orange to the list:  ['apple', 'banana', 'cherry', 'apple', 'cherry', 'orange']\n",
            "Removed apple from the list:  ['grapes', 'banana', 'cherry', 'apple', 'cherry', 'orange']\n",
            "Removed item at index 1:  ['grapes', 'banana', 'apple', 'cherry', 'orange']\n",
            "Changed grapes to mango:  ['mango', 'banana', 'apple', 'cherry', 'orange']\n"
          ]
        }
      ],
      "source": [
        "# We can manipulate the list by adding, removing, or changing items in the list\n",
        "\n",
        "print(\"Original list: \", my_list)\n",
        "\n",
        "# Adding items to the list. The append method adds an item to the end of the list\n",
        "my_list.append(\"orange\")\n",
        "print(\"Added orange to the list: \", my_list)\n",
        "\n",
        "# Inserting items to the list. The insert method adds an item at a specified index\n",
        "my_list.insert(1, \"grapes\")\n",
        "\n",
        "# Removing items from the list. \n",
        "# The remove method removes the first occurrence of the item in the list\n",
        "# Also, the pop method removes the item at the specified index\n",
        "my_list.remove(\"apple\")\n",
        "print(\"Removed apple from the list: \", my_list)\n",
        "\n",
        "my_list.pop(2)\n",
        "print(\"Removed item at index 1: \", my_list)\n",
        "\n",
        "# Changing items in the list\n",
        "my_list[0] = \"mango\"\n",
        "print(\"Changed grapes to mango: \", my_list)"
      ]
    },
    {
      "cell_type": "code",
      "execution_count": 9,
      "metadata": {},
      "outputs": [
        {
          "name": "stdout",
          "output_type": "stream",
          "text": [
            "Item in the list:  mango\n",
            "Item in the list:  cherry\n",
            "Item in the list:  apple\n",
            "Item in the list:  cherry\n",
            "Item in the list:  orange\n",
            "Using range function to iterate through the list: \n",
            "Item in the list:  mango\n",
            "Item in the list:  cherry\n",
            "Item in the list:  apple\n",
            "Item in the list:  cherry\n",
            "Item in the list:  orange\n"
          ]
        }
      ],
      "source": [
        "# We can iterate through the list using a for loop\n",
        "\n",
        "for item in my_list:\n",
        "    print(\"Item in the list: \", item)\n",
        "\n",
        "# We can also use the range function to iterate through a list. \n",
        "# The range function returns a sequence of numbers, starting from 0 by default, and increments by 1 by default, and stops before a specified number. \n",
        "# The len function returns the length of the list\n",
        "\n",
        "print(\"Using range function to iterate through the list: \")\n",
        "for i in range(len(my_list)):\n",
        "    print(\"Item in the list: \", my_list[i])"
      ]
    },
    {
      "cell_type": "markdown",
      "metadata": {},
      "source": [
        "### Dictionaries\n",
        "---"
      ]
    },
    {
      "cell_type": "code",
      "execution_count": 23,
      "metadata": {},
      "outputs": [
        {
          "name": "stdout",
          "output_type": "stream",
          "text": [
            "Dictionary:  {'name': 'Clean Code', 'author': 'Robert C. Martin', 'year': 2008}\n"
          ]
        }
      ],
      "source": [
        "# Dictionaries are a collection of items that are unordered, changeable, and indexed. They are written with curly brackets\n",
        "\n",
        "my_dict = {\n",
        "    \"name\": \"Clean Code\",\n",
        "    \"author\": \"Robert C. Martin\",\n",
        "    \"year\": 2008\n",
        "}\n",
        "\n",
        "print(\"Dictionary: \", my_dict)"
      ]
    },
    {
      "cell_type": "code",
      "execution_count": 24,
      "metadata": {},
      "outputs": [
        {
          "name": "stdout",
          "output_type": "stream",
          "text": [
            "Author of the book:  Robert C. Martin\n",
            "Year the book was published:  2008\n"
          ]
        }
      ],
      "source": [
        "# We can access the items in the dictionary by referring to its key name\n",
        "print(\"Author of the book: \", my_dict[\"author\"])\n",
        "\n",
        "# We can also access the items in the dictionary using the get method\n",
        "print(\"Year the book was published: \", my_dict.get(\"year\"))"
      ]
    },
    {
      "cell_type": "code",
      "execution_count": 27,
      "metadata": {},
      "outputs": [
        {
          "name": "stdout",
          "output_type": "stream",
          "text": [
            "Key in the dictionary:  name\n",
            "Key in the dictionary:  author\n",
            "Key in the dictionary:  year\n",
            "------------------\n",
            "Value in the dictionary:  Clean Code\n",
            "Value in the dictionary:  Robert C. Martin\n",
            "Value in the dictionary:  2008\n",
            "------------------\n",
            "Key:  name  Value:  Clean Code\n",
            "Key:  author  Value:  Robert C. Martin\n",
            "Key:  year  Value:  2008\n"
          ]
        }
      ],
      "source": [
        "# We can see all the keys in the dictionary using a for loop\n",
        "\n",
        "for key in my_dict:\n",
        "    print(\"Key in the dictionary: \", key)\n",
        "print(\"------------------\")\n",
        "\n",
        "# We can also see all the values in the dictionary using a for loop\n",
        "for value in my_dict.values():\n",
        "    print(\"Value in the dictionary: \", value)\n",
        "print(\"------------------\")\n",
        "\n",
        "# We can also see both the keys and values in the dictionary using a for loop\n",
        "for key, value in my_dict.items():\n",
        "    print(\"Key: \", key, \" Value: \", value)"
      ]
    },
    {
      "cell_type": "code",
      "execution_count": 28,
      "metadata": {},
      "outputs": [
        {
          "name": "stdout",
          "output_type": "stream",
          "text": [
            "Changed the year to 2009:  {'name': 'Clean Code', 'author': 'Robert C. Martin', 'year': 2009}\n",
            "Added publisher to the dictionary:  {'name': 'Clean Code', 'author': 'Robert C. Martin', 'year': 2009, 'publisher': 'Prentice Hall'}\n",
            "Removed publisher from the dictionary:  {'name': 'Clean Code', 'author': 'Robert C. Martin', 'year': 2009}\n"
          ]
        }
      ],
      "source": [
        "# We can also change the values in the dictionary\n",
        "my_dict[\"year\"] = 2009\n",
        "print(\"Changed the year to 2009: \", my_dict)\n",
        "\n",
        "# We can also add items to the dictionary\n",
        "my_dict[\"publisher\"] = \"Prentice Hall\"\n",
        "print(\"Added publisher to the dictionary: \", my_dict)\n",
        "\n",
        "# We can also remove items from the dictionary\n",
        "my_dict.pop(\"publisher\")\n",
        "print(\"Removed publisher from the dictionary: \", my_dict)\n",
        "\n",
        "# We can also clear the dictionary\n",
        "my_dict.clear()\n",
        "\n",
        "# We can also delete the dictionary\n",
        "del my_dict"
      ]
    },
    {
      "cell_type": "markdown",
      "metadata": {},
      "source": [
        "### Using libraries\n",
        "---"
      ]
    },
    {
      "cell_type": "code",
      "execution_count": 30,
      "metadata": {},
      "outputs": [
        {
          "name": "stdout",
          "output_type": "stream",
          "text": [
            "Area of the circle with radius:  5  is:  78.53981633974483\n"
          ]
        }
      ],
      "source": [
        "# We can use libraries in python to do some tasks using the import keyword\n",
        "import math\n",
        "\n",
        "# We can use the math library to do some arithmetic operations\n",
        "# For example, we can calculate the area of a circle using the formula: area = pi * radius^2\n",
        "area = 0\n",
        "radius = 5\n",
        "\n",
        "# Calculate the area of a circle\n",
        "area = math.pi * radius ** 2\n",
        "\n",
        "print(\"Area of the circle with radius: \", radius, \" is: \", area)"
      ]
    },
    {
      "cell_type": "code",
      "execution_count": 31,
      "metadata": {},
      "outputs": [
        {
          "name": "stdout",
          "output_type": "stream",
          "text": [
            "Area of the circle with radius:  5  is:  78.53981633974483\n"
          ]
        }
      ],
      "source": [
        "# Sometimes we may want to use a function from a library without importing the whole library\n",
        "from math import pi\n",
        "\n",
        "# We can now use the pi function without using the math prefix\n",
        "area = pi * radius ** 2\n",
        "print(\"Area of the circle with radius: \", radius, \" is: \", area)"
      ]
    },
    {
      "cell_type": "markdown",
      "metadata": {},
      "source": [
        "### Functions\n",
        "---"
      ]
    },
    {
      "cell_type": "code",
      "execution_count": 33,
      "metadata": {},
      "outputs": [
        {
          "name": "stdout",
          "output_type": "stream",
          "text": [
            "Hello,  John\n"
          ]
        }
      ],
      "source": [
        "# Functions are a block of code that only runs when it is called. It can take parameters and return values\n",
        "# We can define a function using the def keyword\n",
        "\n",
        "def greet(name):\n",
        "    print(\"Hello, \", name)\n",
        "\n",
        "# We can now call the function\n",
        "greet(\"John\")"
      ]
    },
    {
      "cell_type": "code",
      "execution_count": 34,
      "metadata": {},
      "outputs": [
        {
          "name": "stdout",
          "output_type": "stream",
          "text": [
            "The sum of 3 and 4 is:  7\n"
          ]
        }
      ],
      "source": [
        "# We can also return a value from a function\n",
        "def add(a, b):\n",
        "    return a + b\n",
        "\n",
        "# We can now call the function and store the result in a variable\n",
        "result = add(3, 4)\n",
        "print(\"The sum of 3 and 4 is: \", result)"
      ]
    },
    {
      "cell_type": "code",
      "execution_count": 1,
      "metadata": {},
      "outputs": [
        {
          "name": "stdout",
          "output_type": "stream",
          "text": [
            "Hello,  John\n",
            "Hello,  Jane\n"
          ]
        }
      ],
      "source": [
        "# We can define a function with a default parameter value\n",
        "def greet_with_parameter(name=\"John\"):\n",
        "    print(\"Hello, \", name)\n",
        "\n",
        "# We can now call the function without passing a parameter\n",
        "greet_with_parameter()\n",
        "\n",
        "# We can also pass a parameter\n",
        "greet_with_parameter(\"Jane\")"
      ]
    },
    {
      "cell_type": "code",
      "execution_count": 39,
      "metadata": {},
      "outputs": [
        {
          "name": "stdout",
          "output_type": "stream",
          "text": [
            "Value of x:  10\n",
            "Changed value of x:  20\n"
          ]
        }
      ],
      "source": [
        "# The variables outside the function are called global variables and the variables inside the function are called local variables\n",
        "x = 10\n",
        "\n",
        "def print_x():\n",
        "    print(\"Value of x: \", x)\n",
        "\n",
        "print_x()\n",
        "\n",
        "# We can also change the value of the global variable inside the function\n",
        "def change_x():\n",
        "    x = 20\n",
        "    print(\"Changed value of x: \", x)\n",
        "\n",
        "change_x()"
      ]
    }
  ],
  "metadata": {
    "colab": {
      "authorship_tag": "ABX9TyMXLJpttLviWQxJjFrK2p4J",
      "include_colab_link": true,
      "provenance": []
    },
    "kernelspec": {
      "display_name": "Python 3",
      "name": "python3"
    },
    "language_info": {
      "codemirror_mode": {
        "name": "ipython",
        "version": 3
      },
      "file_extension": ".py",
      "mimetype": "text/x-python",
      "name": "python",
      "nbconvert_exporter": "python",
      "pygments_lexer": "ipython3",
      "version": "3.11.9"
    }
  },
  "nbformat": 4,
  "nbformat_minor": 0
}
