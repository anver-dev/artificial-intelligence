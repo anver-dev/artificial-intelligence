{
  "nbformat": 4,
  "nbformat_minor": 0,
  "metadata": {
    "colab": {
      "provenance": [],
      "authorship_tag": "ABX9TyMXLJpttLviWQxJjFrK2p4J",
      "include_colab_link": true
    },
    "kernelspec": {
      "name": "python3",
      "display_name": "Python 3"
    },
    "language_info": {
      "name": "python"
    }
  },
  "cells": [
    {
      "cell_type": "markdown",
      "metadata": {
        "id": "view-in-github",
        "colab_type": "text"
      },
      "source": [
        "<a href=\"https://colab.research.google.com/github/anver-dev/artificial-intelligence/blob/basics-jupyter/first_approach.ipynb\" target=\"_parent\"><img src=\"https://colab.research.google.com/assets/colab-badge.svg\" alt=\"Open In Colab\"/></a>"
      ]
    },
    {
      "cell_type": "code",
      "execution_count": null,
      "metadata": {
        "id": "qngiK176Z5t-"
      },
      "outputs": [],
      "source": []
    },
    {
      "cell_type": "markdown",
      "source": [
        "# Mi primer notebook\n",
        "\n",
        "Este es un ejemplo de texto en notebook. Se pueden utilizar diferentes tipos de texto.   \n",
        "Podemos escribir fracciones $\\frac{5}{2}$"
      ],
      "metadata": {
        "id": "_eNifr4LbhQT"
      }
    }
  ]
}